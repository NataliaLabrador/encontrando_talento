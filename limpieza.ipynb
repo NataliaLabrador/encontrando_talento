{
 "cells": [
  {
   "cell_type": "code",
   "execution_count": 1,
   "metadata": {},
   "outputs": [],
   "source": [
    "import pandas as pd"
   ]
  },
  {
   "cell_type": "markdown",
   "metadata": {},
   "source": [
    "# Artistas femeninas españolas"
   ]
  },
  {
   "cell_type": "code",
   "execution_count": 2,
   "metadata": {},
   "outputs": [],
   "source": [
    "# Leer archivo CSV\n",
    "artistas_fem = pd.read_csv('/Users/natalialabrador/Desktop/Ironhack/Proyecto Final/csvs/artistas_femeninas.csv')"
   ]
  },
  {
   "cell_type": "code",
   "execution_count": 3,
   "metadata": {},
   "outputs": [
    {
     "data": {
      "text/html": [
       "<div>\n",
       "<style scoped>\n",
       "    .dataframe tbody tr th:only-of-type {\n",
       "        vertical-align: middle;\n",
       "    }\n",
       "\n",
       "    .dataframe tbody tr th {\n",
       "        vertical-align: top;\n",
       "    }\n",
       "\n",
       "    .dataframe thead th {\n",
       "        text-align: right;\n",
       "    }\n",
       "</style>\n",
       "<table border=\"1\" class=\"dataframe\">\n",
       "  <thead>\n",
       "    <tr style=\"text-align: right;\">\n",
       "      <th></th>\n",
       "      <th>Chartmetric ID</th>\n",
       "      <th>Artista</th>\n",
       "      <th>País</th>\n",
       "      <th>Pronombres</th>\n",
       "      <th>Solista/Grupo</th>\n",
       "      <th>Etiquetas Asociadas</th>\n",
       "      <th>Géneros</th>\n",
       "      <th>Etapa de la carrera</th>\n",
       "      <th>Momentum Reciente</th>\n",
       "      <th>Seguidores en Spotify</th>\n",
       "      <th>Oyentes mensuales en Spotify</th>\n",
       "      <th>Tasa de conversión en Spotify</th>\n",
       "      <th>Alcance Spotify / Relación Seguidores</th>\n",
       "      <th>Popularidad en Spotify</th>\n",
       "      <th>Alcance de playlists en Spotify</th>\n",
       "      <th>Conteo de las playlists en Spotify</th>\n",
       "    </tr>\n",
       "  </thead>\n",
       "  <tbody>\n",
       "    <tr>\n",
       "      <th>0</th>\n",
       "      <td>612801</td>\n",
       "      <td>ROSALÍA</td>\n",
       "      <td>España</td>\n",
       "      <td>She/Her</td>\n",
       "      <td>Artistas solistas</td>\n",
       "      <td>SME (Columbia Records)</td>\n",
       "      <td>Latin Pop, Electronic, Latin Dance, Latin</td>\n",
       "      <td>Superstar</td>\n",
       "      <td>Decline</td>\n",
       "      <td>8127231.0</td>\n",
       "      <td>24753783.0</td>\n",
       "      <td>0.328323</td>\n",
       "      <td>NaN</td>\n",
       "      <td>75.0</td>\n",
       "      <td>242518261.0</td>\n",
       "      <td>648580.0</td>\n",
       "    </tr>\n",
       "    <tr>\n",
       "      <th>1</th>\n",
       "      <td>214045</td>\n",
       "      <td>Bad Gyal</td>\n",
       "      <td>España</td>\n",
       "      <td>She/Her</td>\n",
       "      <td>Artistas solistas</td>\n",
       "      <td>UMG (Interscope)</td>\n",
       "      <td>Latin Hip-Hop/Rap, Latin Dance, R&amp;B/Soul, Latin</td>\n",
       "      <td>Superstar</td>\n",
       "      <td>Steady</td>\n",
       "      <td>1624896.0</td>\n",
       "      <td>13002795.0</td>\n",
       "      <td>0.124965</td>\n",
       "      <td>NaN</td>\n",
       "      <td>72.0</td>\n",
       "      <td>100691224.0</td>\n",
       "      <td>160716.0</td>\n",
       "    </tr>\n",
       "    <tr>\n",
       "      <th>2</th>\n",
       "      <td>776401</td>\n",
       "      <td>Aitana</td>\n",
       "      <td>España</td>\n",
       "      <td>She/Her</td>\n",
       "      <td>Artistas solistas</td>\n",
       "      <td>Hollywood Records, UMG (Universal Music Spain)</td>\n",
       "      <td>Latin Pop, Latin</td>\n",
       "      <td>Superstar</td>\n",
       "      <td>Steady</td>\n",
       "      <td>2977107.0</td>\n",
       "      <td>11415665.0</td>\n",
       "      <td>0.260791</td>\n",
       "      <td>NaN</td>\n",
       "      <td>71.0</td>\n",
       "      <td>83072793.0</td>\n",
       "      <td>202939.0</td>\n",
       "    </tr>\n",
       "    <tr>\n",
       "      <th>3</th>\n",
       "      <td>1123831</td>\n",
       "      <td>Lola Indigo</td>\n",
       "      <td>España</td>\n",
       "      <td>She/Her</td>\n",
       "      <td>Artistas solistas</td>\n",
       "      <td>UMG (Universal Music Spain)</td>\n",
       "      <td>Latin Pop, Latin</td>\n",
       "      <td>Superstar</td>\n",
       "      <td>Steady</td>\n",
       "      <td>1204234.0</td>\n",
       "      <td>7930530.0</td>\n",
       "      <td>0.151848</td>\n",
       "      <td>NaN</td>\n",
       "      <td>68.0</td>\n",
       "      <td>62431810.0</td>\n",
       "      <td>139449.0</td>\n",
       "    </tr>\n",
       "    <tr>\n",
       "      <th>4</th>\n",
       "      <td>188735</td>\n",
       "      <td>Rocío Dúrcal</td>\n",
       "      <td>España</td>\n",
       "      <td>She/Her</td>\n",
       "      <td>Artistas solistas</td>\n",
       "      <td>Unknown Association</td>\n",
       "      <td>Latin Pop, Latin</td>\n",
       "      <td>Legendary</td>\n",
       "      <td>Explosive Growth</td>\n",
       "      <td>4372705.0</td>\n",
       "      <td>7903355.0</td>\n",
       "      <td>0.553272</td>\n",
       "      <td>NaN</td>\n",
       "      <td>67.0</td>\n",
       "      <td>42571322.0</td>\n",
       "      <td>71138.0</td>\n",
       "    </tr>\n",
       "  </tbody>\n",
       "</table>\n",
       "</div>"
      ],
      "text/plain": [
       "   Chartmetric ID       Artista    País Pronombres      Solista/Grupo  \\\n",
       "0          612801       ROSALÍA  España    She/Her  Artistas solistas   \n",
       "1          214045      Bad Gyal  España    She/Her  Artistas solistas   \n",
       "2          776401        Aitana  España    She/Her  Artistas solistas   \n",
       "3         1123831   Lola Indigo  España    She/Her  Artistas solistas   \n",
       "4          188735  Rocío Dúrcal  España    She/Her  Artistas solistas   \n",
       "\n",
       "                              Etiquetas Asociadas  \\\n",
       "0                          SME (Columbia Records)   \n",
       "1                                UMG (Interscope)   \n",
       "2  Hollywood Records, UMG (Universal Music Spain)   \n",
       "3                     UMG (Universal Music Spain)   \n",
       "4                             Unknown Association   \n",
       "\n",
       "                                           Géneros Etapa de la carrera  \\\n",
       "0        Latin Pop, Electronic, Latin Dance, Latin           Superstar   \n",
       "1  Latin Hip-Hop/Rap, Latin Dance, R&B/Soul, Latin           Superstar   \n",
       "2                                 Latin Pop, Latin           Superstar   \n",
       "3                                 Latin Pop, Latin           Superstar   \n",
       "4                                 Latin Pop, Latin           Legendary   \n",
       "\n",
       "  Momentum Reciente  Seguidores en Spotify  Oyentes mensuales en Spotify  \\\n",
       "0           Decline              8127231.0                    24753783.0   \n",
       "1            Steady              1624896.0                    13002795.0   \n",
       "2            Steady              2977107.0                    11415665.0   \n",
       "3            Steady              1204234.0                     7930530.0   \n",
       "4  Explosive Growth              4372705.0                     7903355.0   \n",
       "\n",
       "   Tasa de conversión en Spotify  Alcance Spotify / Relación Seguidores  \\\n",
       "0                       0.328323                                    NaN   \n",
       "1                       0.124965                                    NaN   \n",
       "2                       0.260791                                    NaN   \n",
       "3                       0.151848                                    NaN   \n",
       "4                       0.553272                                    NaN   \n",
       "\n",
       "   Popularidad en Spotify  Alcance de playlists en Spotify  \\\n",
       "0                    75.0                      242518261.0   \n",
       "1                    72.0                      100691224.0   \n",
       "2                    71.0                       83072793.0   \n",
       "3                    68.0                       62431810.0   \n",
       "4                    67.0                       42571322.0   \n",
       "\n",
       "   Conteo de las playlists en Spotify  \n",
       "0                            648580.0  \n",
       "1                            160716.0  \n",
       "2                            202939.0  \n",
       "3                            139449.0  \n",
       "4                             71138.0  "
      ]
     },
     "execution_count": 3,
     "metadata": {},
     "output_type": "execute_result"
    }
   ],
   "source": [
    "artistas_fem.head()"
   ]
  },
  {
   "cell_type": "code",
   "execution_count": 4,
   "metadata": {},
   "outputs": [
    {
     "data": {
      "text/plain": [
       "(1847, 16)"
      ]
     },
     "execution_count": 4,
     "metadata": {},
     "output_type": "execute_result"
    }
   ],
   "source": [
    "artistas_fem.shape"
   ]
  },
  {
   "cell_type": "code",
   "execution_count": 5,
   "metadata": {},
   "outputs": [
    {
     "data": {
      "text/plain": [
       "Index(['Chartmetric ID', 'Artista', 'País', 'Pronombres', 'Solista/Grupo',\n",
       "       'Etiquetas Asociadas', 'Géneros', 'Etapa de la carrera',\n",
       "       'Momentum Reciente', 'Seguidores en Spotify',\n",
       "       'Oyentes mensuales en Spotify', 'Tasa de conversión en Spotify',\n",
       "       'Alcance Spotify / Relación Seguidores', 'Popularidad en Spotify',\n",
       "       'Alcance de playlists en Spotify',\n",
       "       'Conteo de las playlists en Spotify'],\n",
       "      dtype='object')"
      ]
     },
     "execution_count": 5,
     "metadata": {},
     "output_type": "execute_result"
    }
   ],
   "source": [
    "artistas_fem.columns"
   ]
  },
  {
   "cell_type": "code",
   "execution_count": 6,
   "metadata": {},
   "outputs": [
    {
     "name": "stdout",
     "output_type": "stream",
     "text": [
      "<class 'pandas.core.frame.DataFrame'>\n",
      "RangeIndex: 1847 entries, 0 to 1846\n",
      "Data columns (total 16 columns):\n",
      " #   Column                                 Non-Null Count  Dtype  \n",
      "---  ------                                 --------------  -----  \n",
      " 0   Chartmetric ID                         1847 non-null   int64  \n",
      " 1   Artista                                1847 non-null   object \n",
      " 2   País                                   1847 non-null   object \n",
      " 3   Pronombres                             1847 non-null   object \n",
      " 4   Solista/Grupo                          1690 non-null   object \n",
      " 5   Etiquetas Asociadas                    1846 non-null   object \n",
      " 6   Géneros                                1847 non-null   object \n",
      " 7   Etapa de la carrera                    1738 non-null   object \n",
      " 8   Momentum Reciente                      1738 non-null   object \n",
      " 9   Seguidores en Spotify                  1045 non-null   float64\n",
      " 10  Oyentes mensuales en Spotify           1045 non-null   float64\n",
      " 11  Tasa de conversión en Spotify          1045 non-null   float64\n",
      " 12  Alcance Spotify / Relación Seguidores  0 non-null      float64\n",
      " 13  Popularidad en Spotify                 1067 non-null   float64\n",
      " 14  Alcance de playlists en Spotify        1708 non-null   float64\n",
      " 15  Conteo de las playlists en Spotify     1708 non-null   float64\n",
      "dtypes: float64(7), int64(1), object(8)\n",
      "memory usage: 231.0+ KB\n"
     ]
    }
   ],
   "source": [
    "artistas_fem.info()"
   ]
  },
  {
   "cell_type": "code",
   "execution_count": 7,
   "metadata": {},
   "outputs": [
    {
     "data": {
      "text/html": [
       "<div>\n",
       "<style scoped>\n",
       "    .dataframe tbody tr th:only-of-type {\n",
       "        vertical-align: middle;\n",
       "    }\n",
       "\n",
       "    .dataframe tbody tr th {\n",
       "        vertical-align: top;\n",
       "    }\n",
       "\n",
       "    .dataframe thead th {\n",
       "        text-align: right;\n",
       "    }\n",
       "</style>\n",
       "<table border=\"1\" class=\"dataframe\">\n",
       "  <thead>\n",
       "    <tr style=\"text-align: right;\">\n",
       "      <th></th>\n",
       "      <th>Chartmetric ID</th>\n",
       "      <th>Seguidores en Spotify</th>\n",
       "      <th>Oyentes mensuales en Spotify</th>\n",
       "      <th>Tasa de conversión en Spotify</th>\n",
       "      <th>Alcance Spotify / Relación Seguidores</th>\n",
       "      <th>Popularidad en Spotify</th>\n",
       "      <th>Alcance de playlists en Spotify</th>\n",
       "      <th>Conteo de las playlists en Spotify</th>\n",
       "    </tr>\n",
       "  </thead>\n",
       "  <tbody>\n",
       "    <tr>\n",
       "      <th>count</th>\n",
       "      <td>1.847000e+03</td>\n",
       "      <td>1.045000e+03</td>\n",
       "      <td>1.045000e+03</td>\n",
       "      <td>1045.000000</td>\n",
       "      <td>0.0</td>\n",
       "      <td>1067.000000</td>\n",
       "      <td>1.708000e+03</td>\n",
       "      <td>1708.00000</td>\n",
       "    </tr>\n",
       "    <tr>\n",
       "      <th>mean</th>\n",
       "      <td>3.686533e+06</td>\n",
       "      <td>4.615045e+04</td>\n",
       "      <td>1.683608e+05</td>\n",
       "      <td>9.100135</td>\n",
       "      <td>NaN</td>\n",
       "      <td>13.151828</td>\n",
       "      <td>8.565372e+05</td>\n",
       "      <td>2694.28630</td>\n",
       "    </tr>\n",
       "    <tr>\n",
       "      <th>std</th>\n",
       "      <td>2.869906e+06</td>\n",
       "      <td>3.294133e+05</td>\n",
       "      <td>1.107776e+06</td>\n",
       "      <td>108.721303</td>\n",
       "      <td>NaN</td>\n",
       "      <td>15.425528</td>\n",
       "      <td>7.478312e+06</td>\n",
       "      <td>19048.52752</td>\n",
       "    </tr>\n",
       "    <tr>\n",
       "      <th>min</th>\n",
       "      <td>6.880000e+02</td>\n",
       "      <td>1.000000e+01</td>\n",
       "      <td>1.000000e+00</td>\n",
       "      <td>0.002499</td>\n",
       "      <td>NaN</td>\n",
       "      <td>0.000000</td>\n",
       "      <td>0.000000e+00</td>\n",
       "      <td>1.00000</td>\n",
       "    </tr>\n",
       "    <tr>\n",
       "      <th>25%</th>\n",
       "      <td>9.144715e+05</td>\n",
       "      <td>2.660000e+02</td>\n",
       "      <td>1.270000e+02</td>\n",
       "      <td>0.243729</td>\n",
       "      <td>NaN</td>\n",
       "      <td>0.000000</td>\n",
       "      <td>5.957500e+02</td>\n",
       "      <td>8.00000</td>\n",
       "    </tr>\n",
       "    <tr>\n",
       "      <th>50%</th>\n",
       "      <td>3.747422e+06</td>\n",
       "      <td>9.900000e+02</td>\n",
       "      <td>1.655000e+03</td>\n",
       "      <td>0.865633</td>\n",
       "      <td>NaN</td>\n",
       "      <td>7.000000</td>\n",
       "      <td>7.161500e+03</td>\n",
       "      <td>40.00000</td>\n",
       "    </tr>\n",
       "    <tr>\n",
       "      <th>75%</th>\n",
       "      <td>5.609122e+06</td>\n",
       "      <td>5.542000e+03</td>\n",
       "      <td>1.931400e+04</td>\n",
       "      <td>2.692308</td>\n",
       "      <td>NaN</td>\n",
       "      <td>21.000000</td>\n",
       "      <td>1.000832e+05</td>\n",
       "      <td>439.25000</td>\n",
       "    </tr>\n",
       "    <tr>\n",
       "      <th>max</th>\n",
       "      <td>1.100033e+07</td>\n",
       "      <td>8.127231e+06</td>\n",
       "      <td>2.475378e+07</td>\n",
       "      <td>3352.000000</td>\n",
       "      <td>NaN</td>\n",
       "      <td>75.000000</td>\n",
       "      <td>2.425183e+08</td>\n",
       "      <td>648580.00000</td>\n",
       "    </tr>\n",
       "  </tbody>\n",
       "</table>\n",
       "</div>"
      ],
      "text/plain": [
       "       Chartmetric ID  Seguidores en Spotify  Oyentes mensuales en Spotify  \\\n",
       "count    1.847000e+03           1.045000e+03                  1.045000e+03   \n",
       "mean     3.686533e+06           4.615045e+04                  1.683608e+05   \n",
       "std      2.869906e+06           3.294133e+05                  1.107776e+06   \n",
       "min      6.880000e+02           1.000000e+01                  1.000000e+00   \n",
       "25%      9.144715e+05           2.660000e+02                  1.270000e+02   \n",
       "50%      3.747422e+06           9.900000e+02                  1.655000e+03   \n",
       "75%      5.609122e+06           5.542000e+03                  1.931400e+04   \n",
       "max      1.100033e+07           8.127231e+06                  2.475378e+07   \n",
       "\n",
       "       Tasa de conversión en Spotify  Alcance Spotify / Relación Seguidores  \\\n",
       "count                    1045.000000                                    0.0   \n",
       "mean                        9.100135                                    NaN   \n",
       "std                       108.721303                                    NaN   \n",
       "min                         0.002499                                    NaN   \n",
       "25%                         0.243729                                    NaN   \n",
       "50%                         0.865633                                    NaN   \n",
       "75%                         2.692308                                    NaN   \n",
       "max                      3352.000000                                    NaN   \n",
       "\n",
       "       Popularidad en Spotify  Alcance de playlists en Spotify  \\\n",
       "count             1067.000000                     1.708000e+03   \n",
       "mean                13.151828                     8.565372e+05   \n",
       "std                 15.425528                     7.478312e+06   \n",
       "min                  0.000000                     0.000000e+00   \n",
       "25%                  0.000000                     5.957500e+02   \n",
       "50%                  7.000000                     7.161500e+03   \n",
       "75%                 21.000000                     1.000832e+05   \n",
       "max                 75.000000                     2.425183e+08   \n",
       "\n",
       "       Conteo de las playlists en Spotify  \n",
       "count                          1708.00000  \n",
       "mean                           2694.28630  \n",
       "std                           19048.52752  \n",
       "min                               1.00000  \n",
       "25%                               8.00000  \n",
       "50%                              40.00000  \n",
       "75%                             439.25000  \n",
       "max                          648580.00000  "
      ]
     },
     "execution_count": 7,
     "metadata": {},
     "output_type": "execute_result"
    }
   ],
   "source": [
    "artistas_fem.describe()"
   ]
  },
  {
   "cell_type": "code",
   "execution_count": 8,
   "metadata": {},
   "outputs": [
    {
     "data": {
      "text/plain": [
       "Chartmetric ID                              0\n",
       "Artista                                     0\n",
       "País                                        0\n",
       "Pronombres                                  0\n",
       "Solista/Grupo                             157\n",
       "Etiquetas Asociadas                         1\n",
       "Géneros                                     0\n",
       "Etapa de la carrera                       109\n",
       "Momentum Reciente                         109\n",
       "Seguidores en Spotify                     802\n",
       "Oyentes mensuales en Spotify              802\n",
       "Tasa de conversión en Spotify             802\n",
       "Alcance Spotify / Relación Seguidores    1847\n",
       "Popularidad en Spotify                    780\n",
       "Alcance de playlists en Spotify           139\n",
       "Conteo de las playlists en Spotify        139\n",
       "dtype: int64"
      ]
     },
     "execution_count": 8,
     "metadata": {},
     "output_type": "execute_result"
    }
   ],
   "source": [
    "artistas_fem.isnull().sum()"
   ]
  },
  {
   "cell_type": "code",
   "execution_count": 5,
   "metadata": {},
   "outputs": [
    {
     "data": {
      "text/plain": [
       "0       False\n",
       "1       False\n",
       "2       False\n",
       "3       False\n",
       "4       False\n",
       "        ...  \n",
       "1842    False\n",
       "1843    False\n",
       "1844    False\n",
       "1845    False\n",
       "1846    False\n",
       "Length: 1847, dtype: bool"
      ]
     },
     "execution_count": 5,
     "metadata": {},
     "output_type": "execute_result"
    }
   ],
   "source": [
    "artistas_fem.duplicated()"
   ]
  },
  {
   "cell_type": "markdown",
   "metadata": {},
   "source": [
    "## Limpieza de datos"
   ]
  },
  {
   "cell_type": "code",
   "execution_count": 9,
   "metadata": {},
   "outputs": [],
   "source": [
    "# Elminar columnas no deseadas\n",
    "artistas_fem = artistas_fem.drop(columns=['Alcance Spotify / Relación Seguidores'])"
   ]
  },
  {
   "cell_type": "code",
   "execution_count": 10,
   "metadata": {},
   "outputs": [],
   "source": [
    "# Eliminar filas con valores nulos\n",
    "artistas_fem_cleaned = artistas_fem.dropna()"
   ]
  },
  {
   "cell_type": "code",
   "execution_count": 13,
   "metadata": {},
   "outputs": [],
   "source": [
    "# Guardar como CSV\n",
    "artistas_fem_cleaned.to_csv('/Users/natalialabrador/Desktop/Ironhack/Proyecto Final/csvs/artistas_fem_cleaned.csv', index=False)"
   ]
  },
  {
   "cell_type": "markdown",
   "metadata": {},
   "source": [
    "# Top artistas género urbano"
   ]
  },
  {
   "cell_type": "code",
   "execution_count": null,
   "metadata": {},
   "outputs": [],
   "source": [
    "# Leer archivo CSV\n",
    "top_artistas_urbano = pd.read_csv('/Users/natalialabrador/Desktop/Ironhack/Proyecto Final/chartmetric/top_artistas_urbano.csv')"
   ]
  },
  {
   "cell_type": "markdown",
   "metadata": {},
   "source": [
    "## Revisión de datos"
   ]
  },
  {
   "cell_type": "code",
   "execution_count": null,
   "metadata": {},
   "outputs": [],
   "source": [
    "top_artistas_urbano.head()"
   ]
  },
  {
   "cell_type": "code",
   "execution_count": null,
   "metadata": {},
   "outputs": [],
   "source": [
    "top_artistas_urbano.shape"
   ]
  },
  {
   "cell_type": "code",
   "execution_count": null,
   "metadata": {},
   "outputs": [],
   "source": [
    "top_artistas_urbano.columns"
   ]
  },
  {
   "cell_type": "code",
   "execution_count": null,
   "metadata": {},
   "outputs": [],
   "source": [
    "top_artistas_urbano.info()"
   ]
  },
  {
   "cell_type": "code",
   "execution_count": null,
   "metadata": {},
   "outputs": [],
   "source": [
    "top_artistas_urbano.describe()"
   ]
  },
  {
   "cell_type": "code",
   "execution_count": null,
   "metadata": {},
   "outputs": [],
   "source": [
    "top_artistas_urbano.isnull().sum()"
   ]
  },
  {
   "cell_type": "markdown",
   "metadata": {},
   "source": [
    "## Limpieza de datos"
   ]
  },
  {
   "cell_type": "markdown",
   "metadata": {},
   "source": [
    "### Eliminar columnas no deseadas"
   ]
  },
  {
   "cell_type": "code",
   "execution_count": null,
   "metadata": {},
   "outputs": [],
   "source": [
    "top_artistas_urbano = top_artistas_urbano.drop(columns=['Etiquetas Asociadas', 'Oyentes mensuales en Pandora', 'Streams en Pandora', 'Estaciones del artista en Pandora', 'Me gusta de Artista en Line Music', 'Me gusta en Line Music', 'Vistas de Video en Line Music', 'Streams en Line Music', 'Fanáticos en Melon', 'Me gusta en Melon', 'Me gusta de Video en Melon', 'Vistas de Video en Melon', 'Alcance Spotify / Relación Seguidores', 'Visualizaciones diarias de videos en YouTube', 'Visualizaciones mensuales de vídeos en YouTube', 'Apariciones en SiriusXM', 'Conversaciones en Facebook', 'Me gusta en Facebook', 'Seguidores de Twitter', 'Seguidores de Bandsintown', 'Streams en Boomplay', 'Favoritos en Boomplay', 'Seguidores en Twitch', 'Shortlists'])"
   ]
  },
  {
   "cell_type": "code",
   "execution_count": null,
   "metadata": {},
   "outputs": [],
   "source": [
    "top_artistas_urbano.shape"
   ]
  },
  {
   "cell_type": "markdown",
   "metadata": {},
   "source": [
    "#### Guardar como CSV"
   ]
  },
  {
   "cell_type": "code",
   "execution_count": null,
   "metadata": {},
   "outputs": [],
   "source": [
    "top_artistas_urbano.to_csv('/Users/natalialabrador/Desktop/Ironhack/Proyecto Final/csvs_tableau_urbano/top_artistas_urbano.csv', index=False)"
   ]
  },
  {
   "cell_type": "code",
   "execution_count": null,
   "metadata": {},
   "outputs": [],
   "source": []
  }
 ],
 "metadata": {
  "kernelspec": {
   "display_name": "base",
   "language": "python",
   "name": "python3"
  },
  "language_info": {
   "codemirror_mode": {
    "name": "ipython",
    "version": 3
   },
   "file_extension": ".py",
   "mimetype": "text/x-python",
   "name": "python",
   "nbconvert_exporter": "python",
   "pygments_lexer": "ipython3",
   "version": "3.11.5"
  }
 },
 "nbformat": 4,
 "nbformat_minor": 2
}
